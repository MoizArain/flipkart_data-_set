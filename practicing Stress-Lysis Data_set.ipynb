{
 "cells": [
  {
   "cell_type": "markdown",
   "id": "114d7b93",
   "metadata": {},
   "source": [
    "# Objective \n",
    "\n",
    "train model and check which Algorithm has best score "
   ]
  },
  {
   "cell_type": "code",
   "execution_count": 3,
   "id": "cb57677d",
   "metadata": {},
   "outputs": [
    {
     "data": {
      "text/html": [
       "<div>\n",
       "<style scoped>\n",
       "    .dataframe tbody tr th:only-of-type {\n",
       "        vertical-align: middle;\n",
       "    }\n",
       "\n",
       "    .dataframe tbody tr th {\n",
       "        vertical-align: top;\n",
       "    }\n",
       "\n",
       "    .dataframe thead th {\n",
       "        text-align: right;\n",
       "    }\n",
       "</style>\n",
       "<table border=\"1\" class=\"dataframe\">\n",
       "  <thead>\n",
       "    <tr style=\"text-align: right;\">\n",
       "      <th></th>\n",
       "      <th>Humidity</th>\n",
       "      <th>Temperature</th>\n",
       "      <th>Step count</th>\n",
       "      <th>Stress Level</th>\n",
       "    </tr>\n",
       "  </thead>\n",
       "  <tbody>\n",
       "    <tr>\n",
       "      <th>0</th>\n",
       "      <td>21.33</td>\n",
       "      <td>90.33</td>\n",
       "      <td>123</td>\n",
       "      <td>1</td>\n",
       "    </tr>\n",
       "    <tr>\n",
       "      <th>1</th>\n",
       "      <td>21.41</td>\n",
       "      <td>90.41</td>\n",
       "      <td>93</td>\n",
       "      <td>1</td>\n",
       "    </tr>\n",
       "    <tr>\n",
       "      <th>2</th>\n",
       "      <td>27.12</td>\n",
       "      <td>96.12</td>\n",
       "      <td>196</td>\n",
       "      <td>2</td>\n",
       "    </tr>\n",
       "    <tr>\n",
       "      <th>3</th>\n",
       "      <td>27.64</td>\n",
       "      <td>96.64</td>\n",
       "      <td>177</td>\n",
       "      <td>2</td>\n",
       "    </tr>\n",
       "    <tr>\n",
       "      <th>4</th>\n",
       "      <td>10.87</td>\n",
       "      <td>79.87</td>\n",
       "      <td>87</td>\n",
       "      <td>0</td>\n",
       "    </tr>\n",
       "    <tr>\n",
       "      <th>...</th>\n",
       "      <td>...</td>\n",
       "      <td>...</td>\n",
       "      <td>...</td>\n",
       "      <td>...</td>\n",
       "    </tr>\n",
       "    <tr>\n",
       "      <th>1996</th>\n",
       "      <td>21.82</td>\n",
       "      <td>90.82</td>\n",
       "      <td>96</td>\n",
       "      <td>1</td>\n",
       "    </tr>\n",
       "    <tr>\n",
       "      <th>1997</th>\n",
       "      <td>10.45</td>\n",
       "      <td>79.45</td>\n",
       "      <td>45</td>\n",
       "      <td>0</td>\n",
       "    </tr>\n",
       "    <tr>\n",
       "      <th>1998</th>\n",
       "      <td>27.22</td>\n",
       "      <td>96.22</td>\n",
       "      <td>135</td>\n",
       "      <td>2</td>\n",
       "    </tr>\n",
       "    <tr>\n",
       "      <th>1999</th>\n",
       "      <td>12.46</td>\n",
       "      <td>81.46</td>\n",
       "      <td>64</td>\n",
       "      <td>0</td>\n",
       "    </tr>\n",
       "    <tr>\n",
       "      <th>2000</th>\n",
       "      <td>16.87</td>\n",
       "      <td>85.87</td>\n",
       "      <td>50</td>\n",
       "      <td>1</td>\n",
       "    </tr>\n",
       "  </tbody>\n",
       "</table>\n",
       "<p>2001 rows × 4 columns</p>\n",
       "</div>"
      ],
      "text/plain": [
       "      Humidity  Temperature  Step count  Stress Level\n",
       "0        21.33        90.33         123             1\n",
       "1        21.41        90.41          93             1\n",
       "2        27.12        96.12         196             2\n",
       "3        27.64        96.64         177             2\n",
       "4        10.87        79.87          87             0\n",
       "...        ...          ...         ...           ...\n",
       "1996     21.82        90.82          96             1\n",
       "1997     10.45        79.45          45             0\n",
       "1998     27.22        96.22         135             2\n",
       "1999     12.46        81.46          64             0\n",
       "2000     16.87        85.87          50             1\n",
       "\n",
       "[2001 rows x 4 columns]"
      ]
     },
     "execution_count": 3,
     "metadata": {},
     "output_type": "execute_result"
    }
   ],
   "source": [
    "import numpy as np\n",
    "import pandas as pd \n",
    "import seaborn as sns\n",
    "import matplotlib.pyplot as plt\n",
    "from sklearn.model_selection import train_test_split\n",
    "from sklearn.linear_model import LinearRegression,Ridge,Lasso\n",
    "# from sklearn.preprocessing import OneHotEncoder,LabelEncoder,StandardScaler\n",
    "df = pd.read_csv(r\"X:\\sir ismail AI course\\jupyter data sice\\dataset\\Stress-Lysis.csv\")\n",
    "df"
   ]
  },
  {
   "cell_type": "code",
   "execution_count": 4,
   "id": "874b714d",
   "metadata": {},
   "outputs": [
    {
     "data": {
      "text/html": [
       "<div>\n",
       "<style scoped>\n",
       "    .dataframe tbody tr th:only-of-type {\n",
       "        vertical-align: middle;\n",
       "    }\n",
       "\n",
       "    .dataframe tbody tr th {\n",
       "        vertical-align: top;\n",
       "    }\n",
       "\n",
       "    .dataframe thead th {\n",
       "        text-align: right;\n",
       "    }\n",
       "</style>\n",
       "<table border=\"1\" class=\"dataframe\">\n",
       "  <thead>\n",
       "    <tr style=\"text-align: right;\">\n",
       "      <th></th>\n",
       "      <th>Humidity</th>\n",
       "      <th>Temperature</th>\n",
       "      <th>Step count</th>\n",
       "      <th>Stress Level</th>\n",
       "    </tr>\n",
       "  </thead>\n",
       "  <tbody>\n",
       "    <tr>\n",
       "      <th>count</th>\n",
       "      <td>2001.000000</td>\n",
       "      <td>2001.000000</td>\n",
       "      <td>2001.000000</td>\n",
       "      <td>2001.000000</td>\n",
       "    </tr>\n",
       "    <tr>\n",
       "      <th>mean</th>\n",
       "      <td>20.000000</td>\n",
       "      <td>89.000000</td>\n",
       "      <td>100.141429</td>\n",
       "      <td>1.104448</td>\n",
       "    </tr>\n",
       "    <tr>\n",
       "      <th>std</th>\n",
       "      <td>5.777833</td>\n",
       "      <td>5.777833</td>\n",
       "      <td>58.182948</td>\n",
       "      <td>0.771094</td>\n",
       "    </tr>\n",
       "    <tr>\n",
       "      <th>min</th>\n",
       "      <td>10.000000</td>\n",
       "      <td>79.000000</td>\n",
       "      <td>0.000000</td>\n",
       "      <td>0.000000</td>\n",
       "    </tr>\n",
       "    <tr>\n",
       "      <th>25%</th>\n",
       "      <td>15.000000</td>\n",
       "      <td>84.000000</td>\n",
       "      <td>50.000000</td>\n",
       "      <td>0.000000</td>\n",
       "    </tr>\n",
       "    <tr>\n",
       "      <th>50%</th>\n",
       "      <td>20.000000</td>\n",
       "      <td>89.000000</td>\n",
       "      <td>101.000000</td>\n",
       "      <td>1.000000</td>\n",
       "    </tr>\n",
       "    <tr>\n",
       "      <th>75%</th>\n",
       "      <td>25.000000</td>\n",
       "      <td>94.000000</td>\n",
       "      <td>150.000000</td>\n",
       "      <td>2.000000</td>\n",
       "    </tr>\n",
       "    <tr>\n",
       "      <th>max</th>\n",
       "      <td>30.000000</td>\n",
       "      <td>99.000000</td>\n",
       "      <td>200.000000</td>\n",
       "      <td>2.000000</td>\n",
       "    </tr>\n",
       "  </tbody>\n",
       "</table>\n",
       "</div>"
      ],
      "text/plain": [
       "          Humidity  Temperature   Step count  Stress Level\n",
       "count  2001.000000  2001.000000  2001.000000   2001.000000\n",
       "mean     20.000000    89.000000   100.141429      1.104448\n",
       "std       5.777833     5.777833    58.182948      0.771094\n",
       "min      10.000000    79.000000     0.000000      0.000000\n",
       "25%      15.000000    84.000000    50.000000      0.000000\n",
       "50%      20.000000    89.000000   101.000000      1.000000\n",
       "75%      25.000000    94.000000   150.000000      2.000000\n",
       "max      30.000000    99.000000   200.000000      2.000000"
      ]
     },
     "execution_count": 4,
     "metadata": {},
     "output_type": "execute_result"
    }
   ],
   "source": [
    "df.describe()"
   ]
  },
  {
   "cell_type": "code",
   "execution_count": 5,
   "id": "30987239",
   "metadata": {},
   "outputs": [
    {
     "name": "stdout",
     "output_type": "stream",
     "text": [
      "<class 'pandas.core.frame.DataFrame'>\n",
      "RangeIndex: 2001 entries, 0 to 2000\n",
      "Data columns (total 4 columns):\n",
      " #   Column        Non-Null Count  Dtype  \n",
      "---  ------        --------------  -----  \n",
      " 0   Humidity      2001 non-null   float64\n",
      " 1   Temperature   2001 non-null   float64\n",
      " 2   Step count    2001 non-null   int64  \n",
      " 3   Stress Level  2001 non-null   int64  \n",
      "dtypes: float64(2), int64(2)\n",
      "memory usage: 62.7 KB\n"
     ]
    }
   ],
   "source": [
    "df.info()"
   ]
  },
  {
   "cell_type": "code",
   "execution_count": 11,
   "id": "cb446c5f",
   "metadata": {},
   "outputs": [],
   "source": [
    "X = df.drop(\"Stress Level\", axis = 1)\n",
    "y = df[\"Stress Level\"]"
   ]
  },
  {
   "cell_type": "code",
   "execution_count": 12,
   "id": "40f8c0c8",
   "metadata": {},
   "outputs": [],
   "source": [
    "X_train,X_test,y_train,y_test = train_test_split(X,y, train_size= 0.2, random_state=51)"
   ]
  },
  {
   "cell_type": "code",
   "execution_count": 16,
   "id": "21ca5b31",
   "metadata": {},
   "outputs": [],
   "source": [
    "lr1 = LinearRegression()"
   ]
  },
  {
   "cell_type": "code",
   "execution_count": 17,
   "id": "510e3152",
   "metadata": {},
   "outputs": [
    {
     "data": {
      "text/plain": [
       "LinearRegression()"
      ]
     },
     "execution_count": 17,
     "metadata": {},
     "output_type": "execute_result"
    }
   ],
   "source": [
    "lr1.fit(X_train,y_train)"
   ]
  },
  {
   "cell_type": "code",
   "execution_count": 20,
   "id": "3f3994be",
   "metadata": {},
   "outputs": [
    {
     "data": {
      "text/plain": [
       "0.874719700475922"
      ]
     },
     "execution_count": 20,
     "metadata": {},
     "output_type": "execute_result"
    }
   ],
   "source": [
    "lr1.score(X_test,y_test)"
   ]
  },
  {
   "cell_type": "code",
   "execution_count": null,
   "id": "19f711d0",
   "metadata": {},
   "outputs": [],
   "source": []
  },
  {
   "cell_type": "code",
   "execution_count": 21,
   "id": "5b1ae33f",
   "metadata": {},
   "outputs": [],
   "source": [
    "lr2 = Ridge()"
   ]
  },
  {
   "cell_type": "code",
   "execution_count": 22,
   "id": "ad09b010",
   "metadata": {},
   "outputs": [
    {
     "data": {
      "text/plain": [
       "Ridge()"
      ]
     },
     "execution_count": 22,
     "metadata": {},
     "output_type": "execute_result"
    }
   ],
   "source": [
    "lr2.fit(X_train,y_train)"
   ]
  },
  {
   "cell_type": "code",
   "execution_count": 23,
   "id": "167e71a7",
   "metadata": {},
   "outputs": [
    {
     "data": {
      "text/plain": [
       "0.8747172740937152"
      ]
     },
     "execution_count": 23,
     "metadata": {},
     "output_type": "execute_result"
    }
   ],
   "source": [
    "lr2.score(X_test,y_test)"
   ]
  },
  {
   "cell_type": "code",
   "execution_count": null,
   "id": "bd53a897",
   "metadata": {},
   "outputs": [],
   "source": []
  },
  {
   "cell_type": "code",
   "execution_count": 15,
   "id": "08b8962d",
   "metadata": {},
   "outputs": [],
   "source": [
    "lr3 = Lasso()"
   ]
  },
  {
   "cell_type": "code",
   "execution_count": 24,
   "id": "b7d196ee",
   "metadata": {},
   "outputs": [
    {
     "data": {
      "text/plain": [
       "Lasso()"
      ]
     },
     "execution_count": 24,
     "metadata": {},
     "output_type": "execute_result"
    }
   ],
   "source": [
    "lr3.fit(X_train,y_train)"
   ]
  },
  {
   "cell_type": "code",
   "execution_count": 25,
   "id": "e3a62673",
   "metadata": {},
   "outputs": [
    {
     "data": {
      "text/plain": [
       "0.7000224965164198"
      ]
     },
     "execution_count": 25,
     "metadata": {},
     "output_type": "execute_result"
    }
   ],
   "source": [
    "lr3.score(X_test,y_test)"
   ]
  },
  {
   "cell_type": "code",
   "execution_count": null,
   "id": "3d6ab08b",
   "metadata": {},
   "outputs": [],
   "source": []
  }
 ],
 "metadata": {
  "kernelspec": {
   "display_name": "Python 3 (ipykernel)",
   "language": "python",
   "name": "python3"
  },
  "language_info": {
   "codemirror_mode": {
    "name": "ipython",
    "version": 3
   },
   "file_extension": ".py",
   "mimetype": "text/x-python",
   "name": "python",
   "nbconvert_exporter": "python",
   "pygments_lexer": "ipython3",
   "version": "3.9.7"
  }
 },
 "nbformat": 4,
 "nbformat_minor": 5
}
